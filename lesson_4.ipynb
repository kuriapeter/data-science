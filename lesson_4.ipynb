{
  "nbformat": 4,
  "nbformat_minor": 0,
  "metadata": {
    "colab": {
      "provenance": [],
      "mount_file_id": "1aQsj0nCNO11TwHprTcIA7pVpHIoL2r_j",
      "authorship_tag": "ABX9TyMuhQyQFr7A70f22hLYBeJq",
      "include_colab_link": true
    },
    "kernelspec": {
      "name": "python3",
      "display_name": "Python 3"
    },
    "language_info": {
      "name": "python"
    }
  },
  "cells": [
    {
      "cell_type": "markdown",
      "metadata": {
        "id": "view-in-github",
        "colab_type": "text"
      },
      "source": [
        "<a href=\"https://colab.research.google.com/github/kuriapeter/data-science/blob/main/lesson_4.ipynb\" target=\"_parent\"><img src=\"https://colab.research.google.com/assets/colab-badge.svg\" alt=\"Open In Colab\"/></a>"
      ]
    },
    {
      "cell_type": "code",
      "execution_count": null,
      "metadata": {
        "colab": {
          "base_uri": "https://localhost:8080/"
        },
        "id": "LDfo7F81dxJB",
        "outputId": "1f705e90-93e8-47c8-8561-0ed9e245f945"
      },
      "outputs": [
        {
          "output_type": "stream",
          "name": "stdout",
          "text": [
            "Mounted at /content/Pinchez\n"
          ]
        }
      ],
      "source": [
        "from google.colab import drive\n",
        "drive.mount('/content/Pinchez') #Create a virtual drive"
      ]
    },
    {
      "cell_type": "code",
      "source": [
        "import pandas as pd\n",
        "george=pd.read_csv('/content/Pinchez/MyDrive/Colab Notebooks/Pinchez/Pinche.csv')\n",
        "#george.head(5)\n",
        "print(george)"
      ],
      "metadata": {
        "colab": {
          "base_uri": "https://localhost:8080/"
        },
        "id": "S-oeM6p4jfCM",
        "outputId": "e7262f52-220e-4325-cda8-a97393bef230"
      },
      "execution_count": null,
      "outputs": [
        {
          "output_type": "stream",
          "name": "stdout",
          "text": [
            "   StudentID    Age  Gender  TestScore PassedExam\n",
            "0           1  18.0    Male       85.0        Yes\n",
            "1           2  19.0  Female       92.0        Yes\n",
            "2           3  20.0    Male       78.0         No\n",
            "3           4  19.0  Female        NaN        Yes\n",
            "4           5  20.0    Male       76.0         No\n",
            "5           6  18.0    Male       90.0        Yes\n",
            "6           7  19.0  Female       82.0        Yes\n",
            "7           8   NaN  Female       68.0         No\n",
            "8           9  18.0    Male       79.0         No\n",
            "9          10  19.0    Male       94.0        Yes\n"
          ]
        }
      ]
    },
    {
      "cell_type": "code",
      "source": [
        "import pandas as pd\n",
        "wainaina=pd.read_csv('/content/Pinchez/MyDrive/Colab Notebooks/Pinchez/Pinchez.csv')\n",
        "#wainaina.head(15)\n",
        "print(wainaina)"
      ],
      "metadata": {
        "colab": {
          "base_uri": "https://localhost:8080/"
        },
        "id": "wPYRTdz7kh_U",
        "outputId": "e034a478-70b6-4798-ac7d-723491cc00f5"
      },
      "execution_count": null,
      "outputs": [
        {
          "output_type": "stream",
          "name": "stdout",
          "text": [
            "   StudentID   Age  Gender  TestScore PassedExam\n",
            "0           1   18    Male         85        Yes\n",
            "1           2   19  Female         92        Yes\n",
            "2           3   20    Male         78         No\n",
            "3           4   19  Female         88        Yes\n",
            "4           5   20    Male         76         No\n",
            "5           6   18    Male         90        Yes\n",
            "6           7   19  Female         82        Yes\n",
            "7           8   20  Female         68         No\n",
            "8           9   18    Male         79         No\n",
            "9          10   19    Male         94        Yes\n"
          ]
        }
      ]
    },
    {
      "cell_type": "code",
      "source": [
        "import pandas as pd\n",
        "wainaina=pd.read_csv('/content/drive/MyDrive/Colab Notebooks/Pinchez/Pinchez.csv')\n",
        "duplicate_rows = wainaina[wainaina.duplicated()]\n",
        "print(\"Duplicate Rows:\")\n",
        "print(duplicate_rows)"
      ],
      "metadata": {
        "colab": {
          "base_uri": "https://localhost:8080/"
        },
        "id": "RvdYymJDenJl",
        "outputId": "b9e5aaab-e328-46c7-ea20-20b13c5d711c"
      },
      "execution_count": null,
      "outputs": [
        {
          "output_type": "stream",
          "name": "stdout",
          "text": [
            "Duplicate Rows:\n",
            "Empty DataFrame\n",
            "Columns: [StudentID , Age, Gender, TestScore, PassedExam]\n",
            "Index: []\n"
          ]
        }
      ]
    },
    {
      "cell_type": "code",
      "source": [
        "import pandas as pd\n",
        "wainaina=pd.read_csv('/content/drive/MyDrive/Colab Notebooks/Pinchez/Pinchez.csv')\n",
        "Duplicate = wainaina[wainaina['Age'].duplicated()]\n",
        "print(\"Duplicate:\")\n",
        "print(Duplicate)"
      ],
      "metadata": {
        "colab": {
          "base_uri": "https://localhost:8080/"
        },
        "id": "QRWbItgHk_Gd",
        "outputId": "c3e713d7-58e0-42aa-d26a-f7a41d6e793e"
      },
      "execution_count": null,
      "outputs": [
        {
          "output_type": "stream",
          "name": "stdout",
          "text": [
            "Duplicate:\n",
            "   StudentID   Age  Gender  TestScore PassedExam\n",
            "3           4   19  Female         88        Yes\n",
            "4           5   20    Male         76         No\n",
            "5           6   18    Male         90        Yes\n",
            "6           7   19  Female         82        Yes\n",
            "7           8   20  Female         68         No\n",
            "8           9   18    Male         79         No\n",
            "9          10   19    Male         94        Yes\n"
          ]
        }
      ]
    },
    {
      "cell_type": "code",
      "source": [
        "import pandas as pd\n",
        "wainaina=pd.read_csv('/content/drive/MyDrive/Colab Notebooks/Pinchez/Pinchez.csv')\n",
        "Duplicate = wainaina[wainaina['Age'].duplicated()]\n",
        "print(\"\\nUnique Values in 'Age' Column:\")\n",
        "print(wainaina['Age'].value_counts())"
      ],
      "metadata": {
        "colab": {
          "base_uri": "https://localhost:8080/"
        },
        "id": "pJO1lAiPvLZC",
        "outputId": "a0a7ca2f-e08b-4bf7-b336-307341f97421"
      },
      "execution_count": null,
      "outputs": [
        {
          "output_type": "stream",
          "name": "stdout",
          "text": [
            "\n",
            "Unique Values in 'Age' Column:\n",
            "Age\n",
            "19    4\n",
            "18    3\n",
            "20    3\n",
            "Name: count, dtype: int64\n"
          ]
        }
      ]
    },
    {
      "cell_type": "code",
      "source": [
        "import pandas as pd\n",
        "wainaina=pd.read_csv('/content/drive/MyDrive/Colab Notebooks/Pinchez/Pinchez.csv')\n",
        "StudentID = wainaina['StudentID '].duplicated(keep=False).value_counts()\n",
        "print(\"StudentID:\")\n",
        "print(StudentID)"
      ],
      "metadata": {
        "colab": {
          "base_uri": "https://localhost:8080/"
        },
        "id": "lEsgSd2av-CE",
        "outputId": "c4175e54-ddc0-4591-d386-47e52aedb38b"
      },
      "execution_count": null,
      "outputs": [
        {
          "output_type": "stream",
          "name": "stdout",
          "text": [
            "StudentID:\n",
            "StudentID \n",
            "False    10\n",
            "Name: count, dtype: int64\n"
          ]
        }
      ]
    },
    {
      "cell_type": "code",
      "source": [
        "import pandas as pd\n",
        "wainaina=pd.read_csv('/content/drive/MyDrive/Colab Notebooks/Pinchez/Pinche.csv')\n",
        "zu = wainaina.isnull().sum()\n",
        "# Display the null value counts for each column\n",
        "print(\"Null Values in the DataSet:\")\n",
        "print(zu)"
      ],
      "metadata": {
        "colab": {
          "base_uri": "https://localhost:8080/"
        },
        "id": "7aCEyfidwc9o",
        "outputId": "78f869ce-b296-44bb-e32b-15af7112c75e"
      },
      "execution_count": null,
      "outputs": [
        {
          "output_type": "stream",
          "name": "stdout",
          "text": [
            "Null Values in the DataSet:\n",
            "StudentID     0\n",
            "Age           1\n",
            "Gender        0\n",
            "TestScore     1\n",
            "PassedExam    0\n",
            "dtype: int64\n"
          ]
        }
      ]
    },
    {
      "cell_type": "code",
      "source": [
        "import pandas as pd\n",
        "wainaina=pd.read_csv('/content/drive/MyDrive/Colab Notebooks/Pinchez/Pinche.csv')\n",
        "#wainaina.head(15)\n",
        "print(wainaina)"
      ],
      "metadata": {
        "colab": {
          "base_uri": "https://localhost:8080/"
        },
        "id": "AGR83FKsxHca",
        "outputId": "806e18b7-28dd-4812-9f7b-ce23b9dac23e"
      },
      "execution_count": null,
      "outputs": [
        {
          "output_type": "stream",
          "name": "stdout",
          "text": [
            "   StudentID    Age  Gender  TestScore PassedExam\n",
            "0           1  18.0    Male       85.0        Yes\n",
            "1           2  19.0  Female       92.0        Yes\n",
            "2           3  20.0    Male       78.0         No\n",
            "3           4  19.0  Female        NaN        Yes\n",
            "4           5  20.0    Male       76.0         No\n",
            "5           6  18.0    Male       90.0        Yes\n",
            "6           7  19.0  Female       82.0        Yes\n",
            "7           8   NaN  Female       68.0         No\n",
            "8           9  18.0    Male       79.0         No\n",
            "9          10  19.0    Male       94.0        Yes\n"
          ]
        }
      ]
    },
    {
      "cell_type": "code",
      "source": [
        "import pandas as pd\n",
        "wainaina=pd.read_csv('/content/drive/MyDrive/Colab Notebooks/Pinchez/Pinche.csv')\n",
        "wainaina.head(10)\n",
        "FilledData = wainaina.fillna(0)\n",
        "print(\"DataSet with Missing Values Replaced:\")\n",
        "print(FilledData)\n",
        "\n",
        "# Save the modified DataFrame back to the CSV file\n",
        "wainaina.to_csv('/content/wainaina2.csv', index=False)"
      ],
      "metadata": {
        "colab": {
          "base_uri": "https://localhost:8080/"
        },
        "id": "qdafqw5UxX1p",
        "outputId": "b7bd2e4b-0fe2-4d11-f48d-73597d1f3c16"
      },
      "execution_count": null,
      "outputs": [
        {
          "output_type": "stream",
          "name": "stdout",
          "text": [
            "DataSet with Missing Values Replaced:\n",
            "   StudentID    Age  Gender  TestScore PassedExam\n",
            "0           1  18.0    Male       85.0        Yes\n",
            "1           2  19.0  Female       92.0        Yes\n",
            "2           3  20.0    Male       78.0         No\n",
            "3           4  19.0  Female        0.0        Yes\n",
            "4           5  20.0    Male       76.0         No\n",
            "5           6  18.0    Male       90.0        Yes\n",
            "6           7  19.0  Female       82.0        Yes\n",
            "7           8   0.0  Female       68.0         No\n",
            "8           9  18.0    Male       79.0         No\n",
            "9          10  19.0    Male       94.0        Yes\n"
          ]
        }
      ]
    }
  ]
}